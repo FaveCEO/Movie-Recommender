{
 "cells": [
  {
   "cell_type": "markdown",
   "id": "c0879e8d",
   "metadata": {},
   "source": [
    "# MOVIE RECOMMENDATION SYSTEM"
   ]
  },
  {
   "cell_type": "markdown",
   "id": "43ae5af0",
   "metadata": {},
   "source": [
    "Netflix one of the most populous movie sites uses a recommendation system to keep looping their users into an endless cycle of movies. An action movie watched usually leads to another action movie of a similar genre.\n",
    "\n",
    "The question here is how best can a movie to recommended to a Netflix user based on their genre?"
   ]
  },
  {
   "cell_type": "code",
   "execution_count": 1,
   "id": "86e17ccc",
   "metadata": {},
   "outputs": [
    {
     "name": "stderr",
     "output_type": "stream",
     "text": [
      "C:\\Users\\Favour\\anaconda3\\lib\\site-packages\\fuzzywuzzy\\fuzz.py:11: UserWarning: Using slow pure-python SequenceMatcher. Install python-Levenshtein to remove this warning\n",
      "  warnings.warn('Using slow pure-python SequenceMatcher. Install python-Levenshtein to remove this warning')\n"
     ]
    }
   ],
   "source": [
    "# Import required libraries\n",
    "import pandas as pd\n",
    "from sklearn.feature_extraction.text import TfidfVectorizer\n",
    "from fuzzywuzzy import process\n",
    "from sklearn.neighbors import NearestNeighbors"
   ]
  },
  {
   "cell_type": "code",
   "execution_count": 2,
   "id": "945d872a",
   "metadata": {},
   "outputs": [],
   "source": [
    "# Dataset from Kaggle\n",
    "movies='netflix_titles.csv'\n",
    "# Putting netflix data on 'movies' dataframe\n",
    "movies=pd.read_csv(movies, usecols=['show_id', 'title','cast','listed_in'],dtype={'show_id':'str','title':'str','cast':'str','listed_in':'str'})\n",
    "new_id=list(range(0, movies.shape[0]))\n",
    "movies['new_id']=new_id\n",
    "movies=movies[['show_id','title','cast','listed_in','new_id']]\n",
    "movies=movies.fillna('')"
   ]
  },
  {
   "cell_type": "code",
   "execution_count": 3,
   "id": "b77fb0e8",
   "metadata": {},
   "outputs": [],
   "source": [
    "movies['listed_in']=movies['listed_in'].str.replace('&','')\n",
    "movies['listed_in']=movies['listed_in'].str.replace(',','')\n",
    "movies['listed_in']=movies['listed_in'].str.replace('Sci-Fi','SciFi')\n",
    "movies['listed_in']=movies['listed_in'].str.replace('TV','')\n",
    "movies['listed_in']=movies['listed_in'].str.replace('Movies','')"
   ]
  },
  {
   "cell_type": "markdown",
   "id": "62e70e21",
   "metadata": {},
   "source": [
    "Using TfidVectorizer which will convert the 'listed_in'(text column) into numerical as computers can only understand 0s and 1s.\n",
    "TF-IDF means Term Frequency-Inverse Document Frequency. The number of features it creates is equal to the total number of distinct words in the listed_in column and the values are directly proportional to the number of times a particular word is used and inversely proportional to the number of documents in which the word is used."
   ]
  },
  {
   "cell_type": "code",
   "execution_count": 4,
   "id": "74b3bec3",
   "metadata": {},
   "outputs": [],
   "source": [
    "tfv=TfidfVectorizer()"
   ]
  },
  {
   "cell_type": "code",
   "execution_count": 5,
   "id": "692f31bd",
   "metadata": {},
   "outputs": [],
   "source": [
    "tfv_matrix=tfv.fit_transform(movies['listed_in'])"
   ]
  },
  {
   "cell_type": "code",
   "execution_count": 6,
   "id": "f26e93be",
   "metadata": {},
   "outputs": [],
   "source": [
    "model_knn=NearestNeighbors(metric='cosine', algorithm='brute', n_neighbors=10)"
   ]
  },
  {
   "cell_type": "code",
   "execution_count": 7,
   "id": "d1f336b1",
   "metadata": {},
   "outputs": [
    {
     "data": {
      "text/plain": [
       "NearestNeighbors(algorithm='brute', metric='cosine', n_neighbors=10)"
      ]
     },
     "execution_count": 7,
     "metadata": {},
     "output_type": "execute_result"
    }
   ],
   "source": [
    "model_knn.fit(tfv_matrix)"
   ]
  },
  {
   "cell_type": "code",
   "execution_count": 8,
   "id": "b018eb86",
   "metadata": {},
   "outputs": [],
   "source": [
    "def recommender():\n",
    "    while True:\n",
    "        name=input('Enter name of movie: ')\n",
    "        idx= process.extractOne(name,movies['title'])[2]\n",
    "        print('Did you mean?: ',movies['title'][idx])\n",
    "        print('Options: Yes/No/Quit')\n",
    "        choice=''\n",
    "        choice=input('> ').lower()\n",
    "        if choice =='yes':\n",
    "            print('Searching for similar movies....')\n",
    "            model=model_knn\n",
    "            data=tfv_matrix\n",
    "            n_recommendations=10\n",
    "            distances, indices=model.kneighbors(data[idx], n_neighbors=n_recommendations)\n",
    "            for i in indices:\n",
    "                print(movies['title'][i].where(i !=idx))\n",
    "        elif choice == 'no':\n",
    "            print('Sorry movie not available, input another movie name!')\n",
    "        elif choice == 'quit':\n",
    "            print('Recommender Exited')\n",
    "            break\n",
    "        else:\n",
    "            print('I do not understand')\n",
    "            break"
   ]
  },
  {
   "cell_type": "code",
   "execution_count": 9,
   "id": "e62423c1",
   "metadata": {},
   "outputs": [
    {
     "name": "stdout",
     "output_type": "stream",
     "text": [
      "Enter name of movie: Blood and Water\n",
      "Did you mean?:  Blood & Water\n",
      "Options: Yes/No/Quit\n",
      "> Yes\n",
      "Searching for similar movies....\n",
      "4030      Disappearance\n",
      "4985        Tabula Rasa\n",
      "3755               Jinn\n",
      "1880        To the Lake\n",
      "637                 Ray\n",
      "699               Katla\n",
      "703            The Gift\n",
      "4741           Switched\n",
      "225      Open Your Eyes\n",
      "2999    The Ghost Bride\n",
      "Name: title, dtype: object\n",
      "Enter name of movie: up\n",
      "Did you mean?:  Grown Ups\n",
      "Options: Yes/No/Quit\n",
      "> QUIT\n",
      "Recommender Exited\n"
     ]
    }
   ],
   "source": [
    "recommender()"
   ]
  }
 ],
 "metadata": {
  "kernelspec": {
   "display_name": "Python 3",
   "language": "python",
   "name": "python3"
  },
  "language_info": {
   "codemirror_mode": {
    "name": "ipython",
    "version": 3
   },
   "file_extension": ".py",
   "mimetype": "text/x-python",
   "name": "python",
   "nbconvert_exporter": "python",
   "pygments_lexer": "ipython3",
   "version": "3.8.8"
  }
 },
 "nbformat": 4,
 "nbformat_minor": 5
}
